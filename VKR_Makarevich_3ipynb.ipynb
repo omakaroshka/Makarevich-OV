{
  "nbformat": 4,
  "nbformat_minor": 0,
  "metadata": {
    "colab": {
      "provenance": [],
      "authorship_tag": "ABX9TyOQJmS/o1ijQ7AaKMAcoZGz",
      "include_colab_link": true
    },
    "kernelspec": {
      "name": "python3",
      "display_name": "Python 3"
    },
    "language_info": {
      "name": "python"
    }
  },
  "cells": [
    {
      "cell_type": "markdown",
      "metadata": {
        "id": "view-in-github",
        "colab_type": "text"
      },
      "source": [
        "<a href=\"https://colab.research.google.com/github/omakaroshka/Makarevich-OV/blob/main/VKR_Makarevich_3ipynb.ipynb\" target=\"_parent\"><img src=\"https://colab.research.google.com/assets/colab-badge.svg\" alt=\"Open In Colab\"/></a>"
      ]
    },
    {
      "cell_type": "code",
      "execution_count": null,
      "metadata": {
        "id": "LLkQTdDbd0bn"
      },
      "outputs": [],
      "source": []
    },
    {
      "cell_type": "markdown",
      "source": [
        "# импорт библиотек"
      ],
      "metadata": {
        "id": "t-fZCs2Od74k"
      }
    },
    {
      "cell_type": "code",
      "source": [
        "# импорт библиотек\n",
        "import numpy as np\n",
        "import pandas as pd\n",
        "import matplotlib.pyplot as plt\n",
        "import seaborn as sns\n",
        "import scipy\n",
        "import scipy.stats as stats\n",
        "import sklearn.linear_model as lm\n",
        "from sklearn.preprocessing import Normalizer, MinMaxScaler, StandardScaler, OrdinalEncoder\n",
        "\n",
        "from sklearn.compose import ColumnTransformer\n",
        "from sklearn.model_selection import train_test_split\n",
        "from sklearn.model_selection import KFold\n",
        "from sklearn.model_selection import cross_val_score, cross_validate\n",
        "from sklearn.model_selection import GridSearchCV\n",
        "from sklearn.base import BaseEstimator\n",
        "from sklearn.dummy import DummyRegressor\n",
        "from sklearn.linear_model import LinearRegression\n",
        "from sklearn.linear_model import Ridge\n",
        "from sklearn.linear_model import Lasso\n",
        "from sklearn.svm import SVR\n",
        "from sklearn.neighbors import KNeighborsRegressor\n",
        "from sklearn.tree import DecisionTreeRegressor\n",
        "from sklearn.ensemble import RandomForestRegressor\n",
        "from sklearn.ensemble import GradientBoostingRegressor\n",
        "from sklearn import metrics\n",
        "import pickle\n"
      ],
      "metadata": {
        "id": "AgXBc_bUeCXx"
      },
      "execution_count": null,
      "outputs": []
    },
    {
      "cell_type": "code",
      "source": [
        "# Подключаю доступ к файлам данных для гугл драйв\n",
        "from google.colab import drive\n",
        "drive.mount('/content/drive/')\n"
      ],
      "metadata": {
        "id": "WiiPumWymct9"
      },
      "execution_count": null,
      "outputs": []
    },
    {
      "cell_type": "code",
      "source": [
        "# Пути для гугл драйв\n",
        "nb_path = '/content/drive/MyDrive/Colab Notebooks/'\n",
        "\n",
        "models_path = '/content/drive/MyDrive/Colab Notebooks/models/'"
      ],
      "metadata": {
        "id": "3qU7ks2TeFnC"
      },
      "execution_count": null,
      "outputs": []
    },
    {
      "cell_type": "code",
      "source": [
        "# Пути для локального запуска\n",
        "nb_path = ''\n",
        "\n",
        "models_path = '../models/'"
      ],
      "metadata": {
        "id": "Y1ECrq2hmZeZ"
      },
      "execution_count": null,
      "outputs": []
    },
    {
      "cell_type": "markdown",
      "source": [
        "# ⦁\tРазработать приложение с графическим интерфейсом "
      ],
      "metadata": {
        "id": "twO0FstpeHX3"
      }
    },
    {
      "cell_type": "code",
      "source": [
        "!gdown --id  1ee_9iNqrYziOGMaV94z2jhWmkOHYq9Wt\n",
        "df= pd.read_excel('makarevich.xlsx', index_col=0)"
      ],
      "metadata": {
        "id": "qwPsCpYVi4l5"
      },
      "execution_count": null,
      "outputs": []
    },
    {
      "cell_type": "code",
      "source": [
        "from flask import Flask, request, render_template\n",
        "\n",
        "import tensorflow as tf\n",
        "\n",
        "app = Flask(__name__)\n",
        "\n",
        "def prediction(params):\n",
        "    model = tf.keras.models.load_model('models/mn_model_nn')\n",
        "    pred = model.predict([params])\n",
        "    return pred\n",
        "\n",
        "@app.route('/', methods=['POST', 'GET'])\n",
        "def predict():\n",
        "    message = ''\n",
        "    if request.method == 'POST':\n",
        "        param_list = ('Плотность, кг/м3', 'модуль упругости, ГПа', 'Количество отвердителя, м.%', \n",
        "                      'Содержание эпоксидных групп,%_2', 'Температура вспышки, С_2', 'Поверхностная плотность, г/м2\t', \n",
        "                      'Модуль упругости при растяжении, ГПа', 'Прочность при растяжении, МПа', 'Потребление смолы, г/м2',\n",
        "                      'Угол нашивки, град', 'Шаг нашивки', 'Плотность нашивки')\n",
        "        params = []\n",
        "        for i in param_list:\n",
        "            param = request.form.get(i)\n",
        "            params.append(param)\n",
        "        params = [float(i.replace(',', '.')) for i in params]\n",
        "\n",
        "        message = f'Соотношение матрица-наполнитель: {prediction(params)}'\n",
        "    return render_template('mn.html', message=message)\n",
        "\n",
        "if __name__ == '__main__':\n",
        "    app.run()"
      ],
      "metadata": {
        "id": "q2F-9my6zN9z"
      },
      "execution_count": null,
      "outputs": []
    },
    {
      "cell_type": "code",
      "source": [
        "# Признаки для Модуль упругости при растяжении\n",
        "y1_columns = ['Модуль упругости при растяжении, ГПа']\n",
        "X1_columns = [\n",
        "  'Соотношение матрица-наполнитель', \n",
        "  'Плотность, кг/м3',\n",
        "  'модуль упругости, ГПа', \n",
        "  'Количество отвердителя, м.%',\n",
        "  'Содержание эпоксидных групп,%_2', \n",
        "  'Температура вспышки, С_2',\n",
        "  'Поверхностная плотность, г/м2', \n",
        "  'Потребление смолы, г/м2',\n",
        "  'Угол нашивки', \n",
        "  'Шаг нашивки', \n",
        "  'Плотность нашивки'\n",
        "]"
      ],
      "metadata": {
        "id": "k0bdvTfQjBGA"
      },
      "execution_count": null,
      "outputs": []
    },
    {
      "cell_type": "code",
      "source": [
        "y1 = df.loc[:, y1_columns]\n",
        "X1 = df.loc[:, X1_columns]"
      ],
      "metadata": {
        "id": "LWiXNxtui6U_"
      },
      "execution_count": null,
      "outputs": []
    },
    {
      "cell_type": "code",
      "source": [
        "# Разделю переменные на категориальные и численные\n",
        "X_categorical = ['Угол нашивки']\n",
        "X1_continuous = [column for column in X1_columns if column not in X_categorical]"
      ],
      "metadata": {
        "id": "GE4OOTmejHAZ"
      },
      "execution_count": null,
      "outputs": []
    },
    {
      "cell_type": "code",
      "source": [
        "# Препроцессор для задачи Модуль упругости при растяжении\n",
        "preprocessor1 = ColumnTransformer(transformers=[\n",
        "        (\"continuous\", MinMaxScaler(), X1_continuous),\n",
        "        (\"categorical\", OrdinalEncoder(), X_categorical)\n",
        "])"
      ],
      "metadata": {
        "id": "7RJBupa2jJCG"
      },
      "execution_count": null,
      "outputs": []
    },
    {
      "cell_type": "code",
      "source": [],
      "metadata": {
        "id": "dP-gmjJmjNX7"
      },
      "execution_count": null,
      "outputs": []
    },
    {
      "cell_type": "code",
      "source": [
        "def save_object_with_pickle(obj, obj_name):\n",
        "  filename = models_path + obj_name\n",
        "  file = open(filename, 'wb')\n",
        "  pickle.dump(obj, file)\n",
        "  file.close()"
      ],
      "metadata": {
        "id": "WiL3T01zeNQR"
      },
      "execution_count": null,
      "outputs": []
    },
    {
      "cell_type": "code",
      "source": [
        "def load_object_with_pickle(obj_name):\n",
        "  filename = models_path + obj_name\n",
        "  file = open(filename, 'rb')\n",
        "  obj = pickle.load(file)\n",
        "  file.close()\n",
        "  return obj"
      ],
      "metadata": {
        "id": "ae7lYMgGek6h"
      },
      "execution_count": null,
      "outputs": []
    },
    {
      "cell_type": "code",
      "source": [
        "save_object_with_pickle(preprocessor1, 'preprocessor1')"
      ],
      "metadata": {
        "id": "l949_3LVipVe"
      },
      "execution_count": null,
      "outputs": []
    },
    {
      "cell_type": "code",
      "source": [
        "save_object_with_pickle(best_model1, 'model1_best')"
      ],
      "metadata": {
        "id": "X4rcggJnomE4"
      },
      "execution_count": null,
      "outputs": []
    }
  ]
}